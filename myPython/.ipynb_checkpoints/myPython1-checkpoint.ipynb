{
 "cells": [
  {
   "cell_type": "code",
   "execution_count": 32,
   "metadata": {
    "collapsed": true
   },
   "outputs": [],
   "source": [
    "import numpy as np\n",
    "\n",
    "names = np.array(['Mike','Cathy','Mike','Carl','Mike','Cathy','Cathy'])"
   ]
  },
  {
   "cell_type": "code",
   "execution_count": 33,
   "metadata": {
    "collapsed": false
   },
   "outputs": [
    {
     "data": {
      "text/plain": [
       "array(['Mike', 'Cathy', 'Mike', 'Carl', 'Mike', 'Cathy', 'Cathy'], \n",
       "      dtype='|S5')"
      ]
     },
     "execution_count": 33,
     "metadata": {},
     "output_type": "execute_result"
    }
   ],
   "source": [
    "names"
   ]
  },
  {
   "cell_type": "code",
   "execution_count": 34,
   "metadata": {
    "collapsed": false
   },
   "outputs": [],
   "source": [
    "from numpy import random\n",
    "data = random.randn(7,4)"
   ]
  },
  {
   "cell_type": "code",
   "execution_count": 35,
   "metadata": {
    "collapsed": false
   },
   "outputs": [
    {
     "data": {
      "text/plain": [
       "array([[ 0.24403634,  0.56657183, -0.71300999, -0.09413634],\n",
       "       [ 0.44137218, -0.21699465,  1.63494235, -1.07358071],\n",
       "       [-0.08991827, -0.96365395,  1.64721138,  1.30707238],\n",
       "       [-0.18429091,  0.82707339,  1.47131941,  0.15739785],\n",
       "       [ 2.11439966,  0.04077512,  1.12326731, -0.49975854],\n",
       "       [ 1.5905941 ,  1.01032133, -0.14605292, -0.10272758],\n",
       "       [ 0.24030812,  1.15609896, -0.12434383,  0.31492058]])"
      ]
     },
     "execution_count": 35,
     "metadata": {},
     "output_type": "execute_result"
    }
   ],
   "source": [
    "data"
   ]
  },
  {
   "cell_type": "code",
   "execution_count": 36,
   "metadata": {
    "collapsed": false
   },
   "outputs": [
    {
     "data": {
      "text/plain": [
       "array([-0.09413634,  1.30707238, -0.49975854])"
      ]
     },
     "execution_count": 36,
     "metadata": {},
     "output_type": "execute_result"
    }
   ],
   "source": [
    "data[names == 'Mike',3]"
   ]
  },
  {
   "cell_type": "code",
   "execution_count": 37,
   "metadata": {
    "collapsed": false
   },
   "outputs": [
    {
     "data": {
      "text/plain": [
       "array([[ 0.24403634,  0.56657183, -0.71300999, -0.09413634],\n",
       "       [ 0.44137218, -0.21699465,  1.63494235, -1.07358071],\n",
       "       [-0.08991827, -0.96365395,  1.64721138,  1.30707238],\n",
       "       [ 2.11439966,  0.04077512,  1.12326731, -0.49975854],\n",
       "       [ 1.5905941 ,  1.01032133, -0.14605292, -0.10272758],\n",
       "       [ 0.24030812,  1.15609896, -0.12434383,  0.31492058]])"
      ]
     },
     "execution_count": 37,
     "metadata": {},
     "output_type": "execute_result"
    }
   ],
   "source": [
    "data[~(names == 'Carl')]"
   ]
  },
  {
   "cell_type": "code",
   "execution_count": 38,
   "metadata": {
    "collapsed": false
   },
   "outputs": [
    {
     "data": {
      "text/plain": [
       "array([[ 0.44137218, -0.21699465,  1.63494235, -1.07358071],\n",
       "       [-0.18429091,  0.82707339,  1.47131941,  0.15739785],\n",
       "       [ 1.5905941 ,  1.01032133, -0.14605292, -0.10272758],\n",
       "       [ 0.24030812,  1.15609896, -0.12434383,  0.31492058]])"
      ]
     },
     "execution_count": 38,
     "metadata": {},
     "output_type": "execute_result"
    }
   ],
   "source": [
    "data[(names=='Cathy')|(names=='Carl')]"
   ]
  },
  {
   "cell_type": "code",
   "execution_count": 39,
   "metadata": {
    "collapsed": true
   },
   "outputs": [],
   "source": [
    "data2 = data\n",
    "data2[data2 <0] = 0\n",
    "#assign negative to zero"
   ]
  },
  {
   "cell_type": "code",
   "execution_count": 40,
   "metadata": {
    "collapsed": false
   },
   "outputs": [
    {
     "data": {
      "text/plain": [
       "array([[ 0.24403634,  0.56657183,  0.        ,  0.        ],\n",
       "       [ 0.44137218,  0.        ,  1.63494235,  0.        ],\n",
       "       [ 0.        ,  0.        ,  1.64721138,  1.30707238],\n",
       "       [ 0.        ,  0.82707339,  1.47131941,  0.15739785],\n",
       "       [ 2.11439966,  0.04077512,  1.12326731,  0.        ],\n",
       "       [ 1.5905941 ,  1.01032133,  0.        ,  0.        ],\n",
       "       [ 0.24030812,  1.15609896,  0.        ,  0.31492058]])"
      ]
     },
     "execution_count": 40,
     "metadata": {},
     "output_type": "execute_result"
    }
   ],
   "source": [
    "data2"
   ]
  },
  {
   "cell_type": "code",
   "execution_count": 31,
   "metadata": {
    "collapsed": false
   },
   "outputs": [
    {
     "data": {
      "text/plain": [
       "array([[ 0.        ,  1.35739004,  0.35833256,  0.        ],\n",
       "       [ 0.        ,  0.        ,  0.62798052,  2.40701242],\n",
       "       [ 0.45179669,  0.        ,  0.        ,  0.3790602 ],\n",
       "       [ 0.76726852,  0.83131992,  0.15006154,  0.        ],\n",
       "       [ 0.        ,  0.        ,  0.        ,  0.98010425],\n",
       "       [ 0.4487222 ,  0.        ,  0.66183969,  0.92933524],\n",
       "       [ 0.77913291,  0.        ,  0.        ,  1.16386181]])"
      ]
     },
     "execution_count": 31,
     "metadata": {},
     "output_type": "execute_result"
    }
   ],
   "source": [
    "data\n",
    "#so this changed as well"
   ]
  },
  {
   "cell_type": "code",
   "execution_count": 30,
   "metadata": {
    "collapsed": false
   },
   "outputs": [
    {
     "data": {
      "text/plain": [
       "array([ 0,  1,  2,  3,  4,  5,  6,  7,  8,  9, 10, 11, 12, 13, 14, 15, 16,\n",
       "       17, 18, 19, 20, 21, 22, 23, 24, 25, 26, 27, 28, 29, 30, 31])"
      ]
     },
     "execution_count": 30,
     "metadata": {},
     "output_type": "execute_result"
    }
   ],
   "source": [
    "arr = np.arange(32)\n",
    "arr"
   ]
  },
  {
   "cell_type": "code",
   "execution_count": 29,
   "metadata": {
    "collapsed": false
   },
   "outputs": [
    {
     "data": {
      "text/plain": [
       "array([[ 0,  1,  2,  3],\n",
       "       [ 4,  5,  6,  7],\n",
       "       [ 8,  9, 10, 11],\n",
       "       [12, 13, 14, 15],\n",
       "       [16, 17, 18, 19],\n",
       "       [20, 21, 22, 23],\n",
       "       [24, 25, 26, 27],\n",
       "       [28, 29, 30, 31]])"
      ]
     },
     "execution_count": 29,
     "metadata": {},
     "output_type": "execute_result"
    }
   ],
   "source": [
    "arr.reshape((8,4))"
   ]
  },
  {
   "cell_type": "code",
   "execution_count": 41,
   "metadata": {
    "collapsed": true
   },
   "outputs": [],
   "source": [
    "arr2 = np.arange(15).reshape((5,3))"
   ]
  },
  {
   "cell_type": "code",
   "execution_count": 42,
   "metadata": {
    "collapsed": false
   },
   "outputs": [
    {
     "data": {
      "text/plain": [
       "array([[ 0,  1,  2],\n",
       "       [ 3,  4,  5],\n",
       "       [ 6,  7,  8],\n",
       "       [ 9, 10, 11],\n",
       "       [12, 13, 14]])"
      ]
     },
     "execution_count": 42,
     "metadata": {},
     "output_type": "execute_result"
    }
   ],
   "source": [
    "arr2"
   ]
  },
  {
   "cell_type": "code",
   "execution_count": 43,
   "metadata": {
    "collapsed": false
   },
   "outputs": [
    {
     "data": {
      "text/plain": [
       "array([[ 0,  3,  6,  9, 12],\n",
       "       [ 1,  4,  7, 10, 13],\n",
       "       [ 2,  5,  8, 11, 14]])"
      ]
     },
     "execution_count": 43,
     "metadata": {},
     "output_type": "execute_result"
    }
   ],
   "source": [
    "arr2.T"
   ]
  },
  {
   "cell_type": "code",
   "execution_count": 45,
   "metadata": {
    "collapsed": false
   },
   "outputs": [
    {
     "data": {
      "text/plain": [
       "array([[ 0.        ,  1.        ,  1.41421356],\n",
       "       [ 1.73205081,  2.        ,  2.23606798],\n",
       "       [ 2.44948974,  2.64575131,  2.82842712],\n",
       "       [ 3.        ,  3.16227766,  3.31662479],\n",
       "       [ 3.46410162,  3.60555128,  3.74165739]])"
      ]
     },
     "execution_count": 45,
     "metadata": {},
     "output_type": "execute_result"
    }
   ],
   "source": [
    "np.sqrt(arr2)"
   ]
  },
  {
   "cell_type": "code",
   "execution_count": 46,
   "metadata": {
    "collapsed": false
   },
   "outputs": [
    {
     "data": {
      "text/plain": [
       "array([[  1.00000000e+00,   2.71828183e+00,   7.38905610e+00],\n",
       "       [  2.00855369e+01,   5.45981500e+01,   1.48413159e+02],\n",
       "       [  4.03428793e+02,   1.09663316e+03,   2.98095799e+03],\n",
       "       [  8.10308393e+03,   2.20264658e+04,   5.98741417e+04],\n",
       "       [  1.62754791e+05,   4.42413392e+05,   1.20260428e+06]])"
      ]
     },
     "execution_count": 46,
     "metadata": {},
     "output_type": "execute_result"
    }
   ],
   "source": [
    "np.exp(arr2)"
   ]
  },
  {
   "cell_type": "code",
   "execution_count": 48,
   "metadata": {
    "collapsed": true
   },
   "outputs": [],
   "source": [
    "points = np.arange(-1,1,0.01)"
   ]
  },
  {
   "cell_type": "code",
   "execution_count": 49,
   "metadata": {
    "collapsed": false,
    "scrolled": true
   },
   "outputs": [
    {
     "data": {
      "text/plain": [
       "array([ -1.00000000e+00,  -9.90000000e-01,  -9.80000000e-01,\n",
       "        -9.70000000e-01,  -9.60000000e-01,  -9.50000000e-01,\n",
       "        -9.40000000e-01,  -9.30000000e-01,  -9.20000000e-01,\n",
       "        -9.10000000e-01,  -9.00000000e-01,  -8.90000000e-01,\n",
       "        -8.80000000e-01,  -8.70000000e-01,  -8.60000000e-01,\n",
       "        -8.50000000e-01,  -8.40000000e-01,  -8.30000000e-01,\n",
       "        -8.20000000e-01,  -8.10000000e-01,  -8.00000000e-01,\n",
       "        -7.90000000e-01,  -7.80000000e-01,  -7.70000000e-01,\n",
       "        -7.60000000e-01,  -7.50000000e-01,  -7.40000000e-01,\n",
       "        -7.30000000e-01,  -7.20000000e-01,  -7.10000000e-01,\n",
       "        -7.00000000e-01,  -6.90000000e-01,  -6.80000000e-01,\n",
       "        -6.70000000e-01,  -6.60000000e-01,  -6.50000000e-01,\n",
       "        -6.40000000e-01,  -6.30000000e-01,  -6.20000000e-01,\n",
       "        -6.10000000e-01,  -6.00000000e-01,  -5.90000000e-01,\n",
       "        -5.80000000e-01,  -5.70000000e-01,  -5.60000000e-01,\n",
       "        -5.50000000e-01,  -5.40000000e-01,  -5.30000000e-01,\n",
       "        -5.20000000e-01,  -5.10000000e-01,  -5.00000000e-01,\n",
       "        -4.90000000e-01,  -4.80000000e-01,  -4.70000000e-01,\n",
       "        -4.60000000e-01,  -4.50000000e-01,  -4.40000000e-01,\n",
       "        -4.30000000e-01,  -4.20000000e-01,  -4.10000000e-01,\n",
       "        -4.00000000e-01,  -3.90000000e-01,  -3.80000000e-01,\n",
       "        -3.70000000e-01,  -3.60000000e-01,  -3.50000000e-01,\n",
       "        -3.40000000e-01,  -3.30000000e-01,  -3.20000000e-01,\n",
       "        -3.10000000e-01,  -3.00000000e-01,  -2.90000000e-01,\n",
       "        -2.80000000e-01,  -2.70000000e-01,  -2.60000000e-01,\n",
       "        -2.50000000e-01,  -2.40000000e-01,  -2.30000000e-01,\n",
       "        -2.20000000e-01,  -2.10000000e-01,  -2.00000000e-01,\n",
       "        -1.90000000e-01,  -1.80000000e-01,  -1.70000000e-01,\n",
       "        -1.60000000e-01,  -1.50000000e-01,  -1.40000000e-01,\n",
       "        -1.30000000e-01,  -1.20000000e-01,  -1.10000000e-01,\n",
       "        -1.00000000e-01,  -9.00000000e-02,  -8.00000000e-02,\n",
       "        -7.00000000e-02,  -6.00000000e-02,  -5.00000000e-02,\n",
       "        -4.00000000e-02,  -3.00000000e-02,  -2.00000000e-02,\n",
       "        -1.00000000e-02,   8.88178420e-16,   1.00000000e-02,\n",
       "         2.00000000e-02,   3.00000000e-02,   4.00000000e-02,\n",
       "         5.00000000e-02,   6.00000000e-02,   7.00000000e-02,\n",
       "         8.00000000e-02,   9.00000000e-02,   1.00000000e-01,\n",
       "         1.10000000e-01,   1.20000000e-01,   1.30000000e-01,\n",
       "         1.40000000e-01,   1.50000000e-01,   1.60000000e-01,\n",
       "         1.70000000e-01,   1.80000000e-01,   1.90000000e-01,\n",
       "         2.00000000e-01,   2.10000000e-01,   2.20000000e-01,\n",
       "         2.30000000e-01,   2.40000000e-01,   2.50000000e-01,\n",
       "         2.60000000e-01,   2.70000000e-01,   2.80000000e-01,\n",
       "         2.90000000e-01,   3.00000000e-01,   3.10000000e-01,\n",
       "         3.20000000e-01,   3.30000000e-01,   3.40000000e-01,\n",
       "         3.50000000e-01,   3.60000000e-01,   3.70000000e-01,\n",
       "         3.80000000e-01,   3.90000000e-01,   4.00000000e-01,\n",
       "         4.10000000e-01,   4.20000000e-01,   4.30000000e-01,\n",
       "         4.40000000e-01,   4.50000000e-01,   4.60000000e-01,\n",
       "         4.70000000e-01,   4.80000000e-01,   4.90000000e-01,\n",
       "         5.00000000e-01,   5.10000000e-01,   5.20000000e-01,\n",
       "         5.30000000e-01,   5.40000000e-01,   5.50000000e-01,\n",
       "         5.60000000e-01,   5.70000000e-01,   5.80000000e-01,\n",
       "         5.90000000e-01,   6.00000000e-01,   6.10000000e-01,\n",
       "         6.20000000e-01,   6.30000000e-01,   6.40000000e-01,\n",
       "         6.50000000e-01,   6.60000000e-01,   6.70000000e-01,\n",
       "         6.80000000e-01,   6.90000000e-01,   7.00000000e-01,\n",
       "         7.10000000e-01,   7.20000000e-01,   7.30000000e-01,\n",
       "         7.40000000e-01,   7.50000000e-01,   7.60000000e-01,\n",
       "         7.70000000e-01,   7.80000000e-01,   7.90000000e-01,\n",
       "         8.00000000e-01,   8.10000000e-01,   8.20000000e-01,\n",
       "         8.30000000e-01,   8.40000000e-01,   8.50000000e-01,\n",
       "         8.60000000e-01,   8.70000000e-01,   8.80000000e-01,\n",
       "         8.90000000e-01,   9.00000000e-01,   9.10000000e-01,\n",
       "         9.20000000e-01,   9.30000000e-01,   9.40000000e-01,\n",
       "         9.50000000e-01,   9.60000000e-01,   9.70000000e-01,\n",
       "         9.80000000e-01,   9.90000000e-01])"
      ]
     },
     "execution_count": 49,
     "metadata": {},
     "output_type": "execute_result"
    }
   ],
   "source": [
    "points"
   ]
  },
  {
   "cell_type": "code",
   "execution_count": 50,
   "metadata": {
    "collapsed": true
   },
   "outputs": [],
   "source": [
    "xs, ys = np.meshgrid(points, points)"
   ]
  },
  {
   "cell_type": "code",
   "execution_count": 51,
   "metadata": {
    "collapsed": false
   },
   "outputs": [
    {
     "data": {
      "text/plain": [
       "array([[-1.  , -1.  , -1.  , ..., -1.  , -1.  , -1.  ],\n",
       "       [-0.99, -0.99, -0.99, ..., -0.99, -0.99, -0.99],\n",
       "       [-0.98, -0.98, -0.98, ..., -0.98, -0.98, -0.98],\n",
       "       ..., \n",
       "       [ 0.97,  0.97,  0.97, ...,  0.97,  0.97,  0.97],\n",
       "       [ 0.98,  0.98,  0.98, ...,  0.98,  0.98,  0.98],\n",
       "       [ 0.99,  0.99,  0.99, ...,  0.99,  0.99,  0.99]])"
      ]
     },
     "execution_count": 51,
     "metadata": {},
     "output_type": "execute_result"
    }
   ],
   "source": [
    "ys"
   ]
  },
  {
   "cell_type": "code",
   "execution_count": 52,
   "metadata": {
    "collapsed": false
   },
   "outputs": [
    {
     "data": {
      "text/plain": [
       "array([[-1.  , -0.99, -0.98, ...,  0.97,  0.98,  0.99],\n",
       "       [-1.  , -0.99, -0.98, ...,  0.97,  0.98,  0.99],\n",
       "       [-1.  , -0.99, -0.98, ...,  0.97,  0.98,  0.99],\n",
       "       ..., \n",
       "       [-1.  , -0.99, -0.98, ...,  0.97,  0.98,  0.99],\n",
       "       [-1.  , -0.99, -0.98, ...,  0.97,  0.98,  0.99],\n",
       "       [-1.  , -0.99, -0.98, ...,  0.97,  0.98,  0.99]])"
      ]
     },
     "execution_count": 52,
     "metadata": {},
     "output_type": "execute_result"
    }
   ],
   "source": [
    "xs"
   ]
  },
  {
   "cell_type": "code",
   "execution_count": 58,
   "metadata": {
    "collapsed": false
   },
   "outputs": [],
   "source": [
    "%matplotlib inline \n",
    "import matplotlib.pyplot as plt\n",
    "z = np.sqrt(xs**2, ys**2)"
   ]
  },
  {
   "cell_type": "code",
   "execution_count": 55,
   "metadata": {
    "collapsed": false
   },
   "outputs": [
    {
     "data": {
      "text/plain": [
       "array([[ 1.  ,  0.99,  0.98, ...,  0.97,  0.98,  0.99],\n",
       "       [ 1.  ,  0.99,  0.98, ...,  0.97,  0.98,  0.99],\n",
       "       [ 1.  ,  0.99,  0.98, ...,  0.97,  0.98,  0.99],\n",
       "       ..., \n",
       "       [ 1.  ,  0.99,  0.98, ...,  0.97,  0.98,  0.99],\n",
       "       [ 1.  ,  0.99,  0.98, ...,  0.97,  0.98,  0.99],\n",
       "       [ 1.  ,  0.99,  0.98, ...,  0.97,  0.98,  0.99]])"
      ]
     },
     "execution_count": 55,
     "metadata": {},
     "output_type": "execute_result"
    }
   ],
   "source": [
    "z"
   ]
  },
  {
   "cell_type": "code",
   "execution_count": 61,
   "metadata": {
    "collapsed": false
   },
   "outputs": [
    {
     "data": {
      "text/plain": [
       "<matplotlib.colorbar.Colorbar instance at 0x000000000B4371C8>"
      ]
     },
     "execution_count": 61,
     "metadata": {},
     "output_type": "execute_result"
    },
    {
     "data": {
      "image/png": "[encoded data removed]",
      "text/plain": [
       "<matplotlib.figure.Figure at 0xad107f0>"
      ]
     },
     "metadata": {},
     "output_type": "display_data"
    }
   ],
   "source": [
    "plt.imshow(z, cmap=plt.cm.Blues); plt.colorbar()"
   ]
  },
  {
   "cell_type": "code",
   "execution_count": null,
   "metadata": {
    "collapsed": true
   },
   "outputs": [],
   "source": []
  }
 ],
 "metadata": {
  "kernelspec": {
   "display_name": "Python 2",
   "language": "python",
   "name": "python2"
  },
  "language_info": {
   "codemirror_mode": {
    "name": "ipython",
    "version": 2
   },
   "file_extension": ".py",
   "mimetype": "text/x-python",
   "name": "python",
   "nbconvert_exporter": "python",
   "pygments_lexer": "ipython2",
   "version": "2.7.10"
  }
 },
 "nbformat": 4,
 "nbformat_minor": 0
}
